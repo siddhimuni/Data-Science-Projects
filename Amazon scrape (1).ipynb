{
 "cells": [
  {
   "cell_type": "code",
   "execution_count": 43,
   "id": "06541bac",
   "metadata": {},
   "outputs": [],
   "source": [
    "from selenium import webdriver"
   ]
  },
  {
   "cell_type": "code",
   "execution_count": null,
   "id": "21648ffc",
   "metadata": {},
   "outputs": [],
   "source": [
    "!pip install selenium"
   ]
  },
  {
   "cell_type": "code",
   "execution_count": 2,
   "id": "ddaa3e4e",
   "metadata": {},
   "outputs": [],
   "source": [
    "amazon_url='https://www.amazon.in/s?k=nike+shoes+for+men&crid=QP5E0DEAKX63&sprefix=%2Caps%2C1327&ref=nb_sb_ss_recent_1_0_recent'"
   ]
  },
  {
   "cell_type": "code",
   "execution_count": 45,
   "id": "85384904",
   "metadata": {},
   "outputs": [],
   "source": [
    "shoe_url=\"https://www.amazon.in/Nike-Experience-Running-Shoe-7-CI9960-002/dp/B08Q8RLYYC/ref=sr_1_9?crid=QP5E0DEAKX63&keywords=nike%2Bshoes%2Bfor%2Bmen&qid=1688046598&sprefix=%2Caps%2C1327&sr=8-9&th=1&psc=1\""
   ]
  },
  {
   "cell_type": "code",
   "execution_count": 44,
   "id": "1ece39e9",
   "metadata": {},
   "outputs": [],
   "source": [
    "\n",
    "chrome_options = webdriver.ChromeOptions()\n",
    "chrome_options.add_argument('--headless')\n",
    "chrome_options.add_argument('--no-sandbox')\n",
    "chrome_options.add_argument('--disable-dev-shm-usage')\n",
    "driver = webdriver.Chrome(options=chrome_options)"
   ]
  },
  {
   "cell_type": "code",
   "execution_count": 33,
   "id": "5f18c910",
   "metadata": {},
   "outputs": [
    {
     "name": "stdout",
     "output_type": "stream",
     "text": [
      "Creating driver:\n",
      "Fetching the page\n",
      "Page title Amazon.in : nike shoes for men\n",
      "Getting the items:\n",
      "[[[\"Nike\\nRun Swift 3 Men's Running Shoes\", 'Nike\\nMens Revolution 6 Nn |Sports Shoes-Men Sneaker', 'Nike\\nMens Downshifter 12 Running', 'Nike\\nMens M Mc Trainer 2 Running Shoe', 'Nike\\nMens Flex Experience Rn 11 Nn Running', 'Nike\\nMens Air Max Sc Running Shoe', 'Nike\\nMens Revolution 6 Nn 4e Running Shoe', \"Nike\\nMen's Revolution Running Shoes\", \"Nike\\nUnisex-Adult Precision Vi Men's Basketball Shoes Boat Shoe\", \"Nike\\nMen's City Rep Tr Low TOP\", \"Nike\\nAir Winflo 10 Men's Running Shoes\", 'Nike\\nMens Quest 5 Running', 'Nike\\nMens Renew Run 4 Running Shoe', \"Nike\\nMen's Court Vision Lo Nn Leather Sneaker\", 'Nike\\nMens Revolution 6 Nn Running Shoe', 'Nike\\nMens Renew Elevate Iii Running Shoe', 'Nike\\nMens Air Zoom Structure 24 Running Shoe', 'Nike\\nMens Air Zoom Pegasus 39 Running Shoes', 'Nike\\nMens M Air Max Alpha Trainer 5 Running', 'Nike\\nMens Renew Ride 3 Running Shoe', 'Sponsored\\nXiaomi\\nMens Advanced Tech Running Shoe', \"Sponsored\\nBacca Bucci\\nMen's Running Shoe\", 'Sponsored\\nBoldfit\\nBoldfit Badminton Shoes Men for Shuttle Non Marking Shoes for Badminton Men & Women Sports Court Shoes for Badminton, Volleyball Shoes, Lining Badminton Shoes, Tennis Shoes - Black Grey Size - 10', 'Sponsored\\nRed Tape\\nSneaker Casual Shoes for Men | Soft Cushioned Insole, Slip-Resistance, Dynamic Feet Support, Arch Support & Shock Absorption', 'Nike\\nMens React Miler 3 Running Shoe', 'Nike\\nMens Precision Vi Running Shoe', 'Nike\\nMens M Legend Essential 3 Nn Running Shoe', 'Nike\\nMens Air Max Impact 4 Running Shoe', 'Nike\\nMens Air Zoom Vomero 16 Running Shoe', 'Nike\\nMens Air Winflo 9 Running Shoe', 'Nike\\nMens E-Series 1.0 Running Shoe', 'Nike\\nMens Court Royale 2 Sneaker', 'Nike\\nWomens W Downshifter 12 Running Shoe', 'Nike\\nMens Lebron Witness VII Ep Running Shoe', 'Nike\\nMens Free Rn 5.0 Next Nature Running Shoe', 'Nike\\nMens Renew Run 3 Running Shoe', 'Nike\\nMens Air Zoom Pegasus 40 Running Shoe', 'Nike\\nMens Nike Court Vision Lo Running Shoe', 'Nike\\nMens Court Vision Mid Nn Running Shoe', \"Nike\\nMens Quest 5 Men's Running Shoes Running Shoe\", 'Nike\\nMens M Zoom Court Lite 3 Sneaker', 'Nike\\nMens Court Legacy Nn Sneaker', 'Nike\\nMens Air Zoom Pegasus 38 Running Shoe', 'Nike\\nMens M Renew Retaliation 4 Running Shoe', 'Nike\\nMens Air Max Ap Running Shoe', 'Nike\\nMens Free Metcon 5 Running Shoes', 'Nike\\nMens Air Zoom Pegasus Flyease Running Shoe', 'Nike\\nMens Revolution 6 Nn Running Shoe', \"Nike\\nMens Fly.by Mid 3 Men's Basketball Shoes Boat Shoe\", 'Nike\\nMens Air Winflo 9 PRM Running', 'Nike\\nMens Fly.by Mid 3 | Shoe-Men Sneaker', 'Nike\\nmens Nike Air Max 2021 Sneaker', \"Sponsored\\nRIFFWAY\\nMen's Sneakers/Running Shoes with Chunky Rubber Sole for Running, Walking, Training, Gym, Parties & Outdoor | Premium Fashionable in Black, Blue, Red, Dark & Light Grey Colour\", 'Sponsored\\nXiaomi\\nMens Athleisure Ultra Light Running Shoe', \"Sponsored\\nBacca Bucci\\nMen's Flex 5.0 Running Shoes for Tuff Surface Run with Natural Rubber & Eva Sole and Breathable Upper\", \"Sponsored\\nBacca Bucci\\nMen's Flex Running Shoes for Tuff Surface Run with Natural Rubber & Eva Sole and Breathable Upper\", \"Sponsored\\nCampus\\nMen's North Plus Running Shoes\", 'Sponsored\\nXiaomi\\nMens Ultra Light Running Shoe', 'Sponsored\\nAllen Cooper\\nTraining,Walking,Cricket,Gym,Running Comfortable Sports Shoes for Men', 'Sponsored\\nBacca Bucci\\nMens Trainers Athletic Walking Running Gyming Jogging Fitness Sneakers/Sports Shoes.']]]\n",
      "[]\n"
     ]
    }
   ],
   "source": [
    "from selenium import webdriver\n",
    "from selenium.webdriver.common.by import By\n",
    "from selenium.webdriver.chrome.service import Service\n",
    "from selenium.webdriver.chrome.options import Options\n",
    "\n",
    "def get_driver():\n",
    "    \n",
    "    service = Service()\n",
    "    \n",
    "\n",
    "    options = webdriver.ChromeOptions()\n",
    "    driver = webdriver.Chrome(service=service, options=options)\n",
    "    return driver\n",
    "\n",
    "if __name__ == \"__main__\":\n",
    "    print('Creating driver:')\n",
    "    driver=get_driver()\n",
    "    print('Fetching the page')\n",
    "    driver.get(amazon_url)\n",
    "    print('Page title',driver.title)\n",
    "    print('Getting the items:')\n",
    "    items = driver.find_elements(By.XPATH,'//*[@id=\"s-skipLinkTargetForMainSearchResults\"]')\n",
    "    results=[]\n",
    "    for item in items:\n",
    "        name_elements = item.find_elements(By.XPATH,'//div[contains(@class,\"a-section a-spacing-none a-spacing-top-small s-title-instructions-style\")]')\n",
    "        name=[name_element.text for name_element in name_elements]\n",
    "\n",
    "\n",
    "        result = [name]\n",
    "        \n",
    "        results.append(result)\n",
    "    print(results)\n",
    "    items = driver.find_elements(By.XPATH,'//*[@id=\"customer-reviews_feature_div\"]')\n",
    "    reviews=[]\n",
    "    for item in items:\n",
    "        name_elements = item.find_elements(By.XPATH,'//a[contains(@class,\"a-size-base a-link-normal review-title a-color-base review-title-content a-text-bold\")]')\n",
    "        name=[name_element.text for name_element in name_elements]\n",
    "        \n",
    "\n",
    "\n",
    "        rev = [name]\n",
    "        \n",
    "        reviews.append(rev)\n",
    "    print(reviews)\n",
    "    \n",
    "\n",
    "    \n",
    "    \n",
    "# ...\n"
   ]
  },
  {
   "cell_type": "code",
   "execution_count": 50,
   "id": "bf9acacc",
   "metadata": {},
   "outputs": [
    {
     "name": "stdout",
     "output_type": "stream",
     "text": [
      "Creating driver:\n",
      "Fetching the page\n",
      "Page title Buy Nike Men's Flex Experience Rn 10 Black/White Running Shoe-7 Kids UK (CI9960-002) at Amazon.in\n",
      "Getting the items:\n",
      "1\n"
     ]
    }
   ],
   "source": [
    "from selenium import webdriver\n",
    "from selenium.webdriver.common.by import By\n",
    "from selenium.webdriver.chrome.service import Service\n",
    "from selenium.webdriver.chrome.options import Options\n",
    "\n",
    "def get_driver():\n",
    "    \n",
    "    service = Service()\n",
    "    \n",
    "\n",
    "    options = webdriver.ChromeOptions()\n",
    "    driver = webdriver.Chrome(service=service, options=options)\n",
    "    return driver\n",
    "\n",
    "if __name__ == \"__main__\":\n",
    "    print('Creating driver:')\n",
    "    driver=get_driver()\n",
    "    print('Fetching the page')\n",
    "    driver.get(shoe_url)\n",
    "    print('Page title',driver.title)\n",
    "    print('Getting the items:')\n",
    "    items = driver.find_elements(By.XPATH,'//*[@id=\"customer-reviews_feature_div\"]')\n",
    "    print(len(items))\n",
    "#     results=[]\n",
    "#     for item in items:\n",
    "#         name_elements = item.find_elements(By.XPATH,'//div[contains(@class,\"a-size-base a-link-normal review-title a-color-base review-title-content a-text-bold\")]')\n",
    "#         name=[name_element.text for name_element in name_elements]\n",
    "\n",
    "\n",
    "#         result = [name]\n",
    "        \n",
    "#         results.append(result)\n",
    "#     print(results)"
   ]
  },
  {
   "cell_type": "code",
   "execution_count": 53,
   "id": "79624cbd",
   "metadata": {},
   "outputs": [
    {
     "name": "stdout",
     "output_type": "stream",
     "text": [
      "[[[\"It's good but\", 'Good', 'Very good product', 'Average', 'Comfort', 'Genuine nike', 'Value for money', 'First copy']]]\n"
     ]
    }
   ],
   "source": [
    "items = driver.find_elements(By.XPATH, '//*[@id=\"cm-cr-dp-review-list\"]')\n",
    "results = []\n",
    "\n",
    "for item in items:\n",
    "    name_elements = item.find_elements(By.XPATH, '//a[@data-hook=\"review-title\"]')\n",
    "    name = [name_element.text for name_element in name_elements]\n",
    "\n",
    "    result = [name]\n",
    "    results.append(result)\n",
    "\n",
    "print(results)\n"
   ]
  },
  {
   "cell_type": "code",
   "execution_count": 59,
   "id": "48e3306f",
   "metadata": {},
   "outputs": [
    {
     "name": "stdout",
     "output_type": "stream",
     "text": [
      "[\"It's good but\", 'Good', 'Very good product', 'Average', 'Comfort', 'Genuine nike', 'Value for money', 'First copy', 'Excellent shoes', 'Ok product - Vietnamese', 'Good shoe but narrow', 'Liked it Would recommend', 'Good shoe for running and walking due to its flexibile sole', 'It is too good worth the price.', 'Negatives: The people with wide toes will hate this shoes...', \"Best shoe and Amazon's amazing deals.\", 'A very comfy and nice pair of shoes.', 'Lenght is Ok but width is small', 'Fake Shoes', 'Poor Quality', 'Super light!', 'It looks good', 'Good shoes for casual run or walk maybe', 'Got for 2700 overall is decent', 'Good for Walking....', 'Lightweight and Good', 'Good for occasional walking - not something I would strongly recommend', 'Not for wide foot', 'Overall good...', \"Fit is good, shoe in itself isn't for long runs\", 'Very comfortable and upto expectation product.. Just go for it', 'Worth every penny.', 'Avg quality light weight good for running', 'Awesome Look! Light wieght!', 'Not as expected', 'Got the deal.', 'Very very light weight', 'Product is quite good , but without billing receipt and shoe box is not up to mark', 'Nice', 'Same as image', 'औसत मनुष्य का एक कदम छह फुट का होता है। यानी एक मिल (5280 feet).', 'Comfortable daily wear', 'Great regular usage shoes', 'Fake/ Duplicate Nike', 'Is it Durable?', 'Not good as usual', 'please do replacement', 'average shoes', 'Nice pair', 'हज़ार से ज्यादा का नही है', 'Good', 'Looks Good', 'Excellent . Light weight . Worth the Money .', 'Worse', 'Product is good but as per size its little tight', 'Fantastic pair of shoes', 'Not comfy', 'quality product', 'very nice', 'Best walking show I’ve ever bought', 'Comfort', 'Amazon is trust worthy', 'Nice & comfortable', 'It’s very', 'Nice product', 'Flex still beast in the budget , for running lovers!', 'Order 1 size large', 'Good but not great', 'Not quite comfortable', 'Nice shoes and lightweight 👌', 'Good Quality.', 'Best quality shoe.', 'Cheap nike product', 'Good catch if u want to look good', 'In this price product is good', 'Very nice !', 'Value for money', 'Fitting is very good', 'Good', 'Excellent fit and quality', '🔥', 'Excellent product', 'Fine', 'Product is OK', 'Its true to size so buy the right one', 'Love this❤️', 'Never buy online. Please visit shop and buy as shops give 90 days warranty while online its 30 days', 'Must to have one', 'Good buy', 'Nice product', 'Comfortable', 'Comfortable', 'Light Weight and Perfect Fit..', 'I am addicted to the comfort of these shoes', 'Product is as made by Nike', 'Exact Products Delivered As Per Display', 'Perfect, Comfortable,value for money!', 'Go for it', 'Good. Value for money', 'light waight & comfortable']\n"
     ]
    }
   ],
   "source": [
    "from selenium.webdriver.common.by import By\n",
    "from selenium.webdriver.support.ui import WebDriverWait\n",
    "from selenium.webdriver.support import expected_conditions as EC\n",
    "\n",
    "results = []\n",
    "\n",
    "# Find and click the \"See all reviews\" link\n",
    "see_all_reviews_link = driver.find_element(By.XPATH, '//a[@data-hook=\"see-all-reviews-link-foot\"]')\n",
    "see_all_reviews_link.click()\n",
    "\n",
    "while True:\n",
    "    # Find all review items on the page\n",
    "    review_items = driver.find_elements(By.XPATH, '//a[@data-hook=\"review-title\"]')\n",
    "    names = [item.text for item in review_items]\n",
    "    results.extend(names)\n",
    "\n",
    "    try:\n",
    "        # Find the \"Next\" button and click it\n",
    "        next_button = driver.find_element(By.XPATH, '//li[@class=\"a-last\"]/a')\n",
    "        next_button.click()\n",
    "\n",
    "        # Wait for the new page to load and the review items to be present\n",
    "        WebDriverWait(driver, 10).until(EC.presence_of_all_elements_located((By.XPATH, '//a[@data-hook=\"review-title\"]')))\n",
    "    except NoSuchElementException:\n",
    "        break  # Break the loop if the \"Next\" button is not found\n",
    "\n",
    "print(results)\n",
    "b "
   ]
  },
  {
   "cell_type": "code",
   "execution_count": null,
   "id": "6d7d4029",
   "metadata": {},
   "outputs": [],
   "source": []
  }
 ],
 "metadata": {
  "kernelspec": {
   "display_name": "Python 3 (ipykernel)",
   "language": "python",
   "name": "python3"
  },
  "language_info": {
   "codemirror_mode": {
    "name": "ipython",
    "version": 3
   },
   "file_extension": ".py",
   "mimetype": "text/x-python",
   "name": "python",
   "nbconvert_exporter": "python",
   "pygments_lexer": "ipython3",
   "version": "3.10.9"
  }
 },
 "nbformat": 4,
 "nbformat_minor": 5
}
